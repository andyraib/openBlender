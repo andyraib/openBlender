{
 "cells": [
  {
   "cell_type": "code",
   "execution_count": 1,
   "metadata": {},
   "outputs": [],
   "source": [
    "# Virtualenv configuration and installation \n",
    "## source env/bin/activate\n",
    "## pip install jupyter\n",
    "## pip install matplotlib\n",
    "## pip install OpenBlender"
   ]
  },
  {
   "cell_type": "code",
   "execution_count": 2,
   "metadata": {},
   "outputs": [],
   "source": [
    "import OpenBlender\n",
    "import pandas as pd\n",
    "import json\n",
    "import matplotlib.pyplot as plt\n",
    "import time"
   ]
  },
  {
   "cell_type": "code",
   "execution_count": 3,
   "metadata": {
    "scrolled": true
   },
   "outputs": [
    {
     "name": "stdout",
     "output_type": "stream",
     "text": [
      "Setting up..\n",
      "6.25 %\n",
      "12.5 %\n",
      "18.75 %\n",
      "25.0 %\n",
      "31.25 %\n",
      "37.5 %\n",
      "43.75 %\n",
      "50.0 %\n",
      "56.25 %\n",
      "62.5 %\n",
      "68.75 %\n",
      "75.0 %\n",
      "81.25 %\n",
      "87.5 %\n",
      "93.75 %\n",
      "100.0 % completed.\n",
      "wrapping up..\n"
     ]
    },
    {
     "data": {
      "text/html": [
       "<div>\n",
       "<style scoped>\n",
       "    .dataframe tbody tr th:only-of-type {\n",
       "        vertical-align: middle;\n",
       "    }\n",
       "\n",
       "    .dataframe tbody tr th {\n",
       "        vertical-align: top;\n",
       "    }\n",
       "\n",
       "    .dataframe thead th {\n",
       "        text-align: right;\n",
       "    }\n",
       "</style>\n",
       "<table border=\"1\" class=\"dataframe\">\n",
       "  <thead>\n",
       "    <tr style=\"text-align: right;\">\n",
       "      <th></th>\n",
       "      <th>index</th>\n",
       "      <th>change</th>\n",
       "      <th>high</th>\n",
       "      <th>low</th>\n",
       "      <th>open</th>\n",
       "      <th>price</th>\n",
       "      <th>timestamp</th>\n",
       "      <th>volume</th>\n",
       "      <th>ts_hour</th>\n",
       "      <th>ts_month_january</th>\n",
       "      <th>...</th>\n",
       "      <th>ts_month_december</th>\n",
       "      <th>ts_month_other</th>\n",
       "      <th>TS_DAY_OF_.monday</th>\n",
       "      <th>TS_DAY_OF_.tuesday</th>\n",
       "      <th>TS_DAY_OF_.wednesday</th>\n",
       "      <th>TS_DAY_OF_.thursday</th>\n",
       "      <th>TS_DAY_OF_.friday</th>\n",
       "      <th>TS_DAY_OF_.saturday</th>\n",
       "      <th>TS_DAY_OF_.sunday</th>\n",
       "      <th>TS_DAY_OF_.other</th>\n",
       "    </tr>\n",
       "  </thead>\n",
       "  <tbody>\n",
       "    <tr>\n",
       "      <th>0</th>\n",
       "      <td>0</td>\n",
       "      <td>0.70</td>\n",
       "      <td>49193.05</td>\n",
       "      <td>48574.25</td>\n",
       "      <td>48881.68</td>\n",
       "      <td>48745.28</td>\n",
       "      <td>1524153600</td>\n",
       "      <td>192.59</td>\n",
       "      <td>16</td>\n",
       "      <td>0</td>\n",
       "      <td>...</td>\n",
       "      <td>0</td>\n",
       "      <td>0</td>\n",
       "      <td>0</td>\n",
       "      <td>0</td>\n",
       "      <td>0</td>\n",
       "      <td>1</td>\n",
       "      <td>0</td>\n",
       "      <td>0</td>\n",
       "      <td>0</td>\n",
       "      <td>0</td>\n",
       "    </tr>\n",
       "    <tr>\n",
       "      <th>1</th>\n",
       "      <td>1</td>\n",
       "      <td>0.64</td>\n",
       "      <td>48958.39</td>\n",
       "      <td>48209.54</td>\n",
       "      <td>48815.33</td>\n",
       "      <td>48431.58</td>\n",
       "      <td>1524240000</td>\n",
       "      <td>149.94</td>\n",
       "      <td>16</td>\n",
       "      <td>0</td>\n",
       "      <td>...</td>\n",
       "      <td>0</td>\n",
       "      <td>0</td>\n",
       "      <td>0</td>\n",
       "      <td>0</td>\n",
       "      <td>0</td>\n",
       "      <td>0</td>\n",
       "      <td>1</td>\n",
       "      <td>0</td>\n",
       "      <td>0</td>\n",
       "      <td>0</td>\n",
       "    </tr>\n",
       "    <tr>\n",
       "      <th>10</th>\n",
       "      <td>18</td>\n",
       "      <td>0.31</td>\n",
       "      <td>41008.63</td>\n",
       "      <td>40579.11</td>\n",
       "      <td>41008.63</td>\n",
       "      <td>40879.75</td>\n",
       "      <td>1391184000</td>\n",
       "      <td>227.51</td>\n",
       "      <td>16</td>\n",
       "      <td>1</td>\n",
       "      <td>...</td>\n",
       "      <td>0</td>\n",
       "      <td>0</td>\n",
       "      <td>0</td>\n",
       "      <td>0</td>\n",
       "      <td>0</td>\n",
       "      <td>0</td>\n",
       "      <td>1</td>\n",
       "      <td>0</td>\n",
       "      <td>0</td>\n",
       "      <td>0</td>\n",
       "    </tr>\n",
       "    <tr>\n",
       "      <th>100</th>\n",
       "      <td>0</td>\n",
       "      <td>0.97</td>\n",
       "      <td>50879.61</td>\n",
       "      <td>50145.41</td>\n",
       "      <td>50178.18</td>\n",
       "      <td>50746.93</td>\n",
       "      <td>1516809600</td>\n",
       "      <td>209.36</td>\n",
       "      <td>16</td>\n",
       "      <td>1</td>\n",
       "      <td>...</td>\n",
       "      <td>0</td>\n",
       "      <td>0</td>\n",
       "      <td>0</td>\n",
       "      <td>0</td>\n",
       "      <td>1</td>\n",
       "      <td>0</td>\n",
       "      <td>0</td>\n",
       "      <td>0</td>\n",
       "      <td>0</td>\n",
       "      <td>0</td>\n",
       "    </tr>\n",
       "    <tr>\n",
       "      <th>1000</th>\n",
       "      <td>0</td>\n",
       "      <td>0.91</td>\n",
       "      <td>46815.26</td>\n",
       "      <td>46162.23</td>\n",
       "      <td>46747.83</td>\n",
       "      <td>46294.43</td>\n",
       "      <td>1525881600</td>\n",
       "      <td>153.88</td>\n",
       "      <td>16</td>\n",
       "      <td>0</td>\n",
       "      <td>...</td>\n",
       "      <td>0</td>\n",
       "      <td>0</td>\n",
       "      <td>0</td>\n",
       "      <td>0</td>\n",
       "      <td>1</td>\n",
       "      <td>0</td>\n",
       "      <td>0</td>\n",
       "      <td>0</td>\n",
       "      <td>0</td>\n",
       "      <td>0</td>\n",
       "    </tr>\n",
       "  </tbody>\n",
       "</table>\n",
       "<p>5 rows × 30 columns</p>\n",
       "</div>"
      ],
      "text/plain": [
       "      index  change      high       low      open     price   timestamp  \\\n",
       "0         0    0.70  49193.05  48574.25  48881.68  48745.28  1524153600   \n",
       "1         1    0.64  48958.39  48209.54  48815.33  48431.58  1524240000   \n",
       "10       18    0.31  41008.63  40579.11  41008.63  40879.75  1391184000   \n",
       "100       0    0.97  50879.61  50145.41  50178.18  50746.93  1516809600   \n",
       "1000      0    0.91  46815.26  46162.23  46747.83  46294.43  1525881600   \n",
       "\n",
       "      volume  ts_hour  ts_month_january  ...  ts_month_december  \\\n",
       "0     192.59       16                 0  ...                  0   \n",
       "1     149.94       16                 0  ...                  0   \n",
       "10    227.51       16                 1  ...                  0   \n",
       "100   209.36       16                 1  ...                  0   \n",
       "1000  153.88       16                 0  ...                  0   \n",
       "\n",
       "      ts_month_other  TS_DAY_OF_.monday  TS_DAY_OF_.tuesday  \\\n",
       "0                  0                  0                   0   \n",
       "1                  0                  0                   0   \n",
       "10                 0                  0                   0   \n",
       "100                0                  0                   0   \n",
       "1000               0                  0                   0   \n",
       "\n",
       "      TS_DAY_OF_.wednesday  TS_DAY_OF_.thursday  TS_DAY_OF_.friday  \\\n",
       "0                        0                    1                  0   \n",
       "1                        0                    0                  1   \n",
       "10                       0                    0                  1   \n",
       "100                      1                    0                  0   \n",
       "1000                     1                    0                  0   \n",
       "\n",
       "      TS_DAY_OF_.saturday  TS_DAY_OF_.sunday  TS_DAY_OF_.other  \n",
       "0                       0                  0                 0  \n",
       "1                       0                  0                 0  \n",
       "10                      0                  0                 0  \n",
       "100                     0                  0                 0  \n",
       "1000                    0                  0                 0  \n",
       "\n",
       "[5 rows x 30 columns]"
      ]
     },
     "execution_count": 3,
     "metadata": {},
     "output_type": "execute_result"
    }
   ],
   "source": [
    "action = 'API_getObservationsFromDataset'\n",
    "#Parameters to BMV    \n",
    "parameters = { \n",
    "    \t'token':'WMQ2YH5AaOtXcTQgv8rgSLanz3hQ3i',\n",
    "\t'id_user':'5d1645a45f361d089d9bd5e0',\n",
    "\t'id_dataset':'5d126efa951629360e921fad',\n",
    "\t'date_treatment':'breakdown',\n",
    "\t'categorical_treatment':'convert_to_numeric',\n",
    " \t'only_return_numbers':1 \n",
    "\n",
    "}\n",
    "        \n",
    "response = OpenBlender.call(action, parameters)\n",
    "df = pd.read_json(json.dumps(response['sample']), convert_dates=False, convert_axes=False)\n",
    "df.head()"
   ]
  },
  {
   "cell_type": "code",
   "execution_count": null,
   "metadata": {},
   "outputs": [
    {
     "name": "stdout",
     "output_type": "stream",
     "text": [
      "Setting up..\n",
      "9.09 %\n",
      "18.18 %\n",
      "27.27 %\n",
      "36.36 %\n"
     ]
    }
   ],
   "source": [
    "# Paremeters to cemex\n",
    "parameters_cemex = { \n",
    "    \t'token':'WMQ2YH5AaOtXcTQgv8rgSLanz3hQ3i',\n",
    "\t'id_user':'5d1645a45f361d089d9bd5e0',\n",
    "\t'id_dataset':'5d1273cd951629360f7cd64f',\n",
    "\t'date_treatment':'breakdown',\n",
    "\t'categorical_treatment':'convert_to_numeric',\n",
    "\t'only_return_numbers':1 \n",
    "}\n",
    "        \n",
    "response_cemex = OpenBlender.call(action, parameters_cemex)\n",
    "df_cemex = pd.read_json(json.dumps(response_cemex['sample']), convert_dates=False, convert_axes=False)\n",
    "df_cemex.head()"
   ]
  },
  {
   "cell_type": "code",
   "execution_count": null,
   "metadata": {},
   "outputs": [],
   "source": [
    "list_bmv= list(df)"
   ]
  },
  {
   "cell_type": "code",
   "execution_count": null,
   "metadata": {},
   "outputs": [],
   "source": [
    "ts_month_mean_low = []\n",
    "ts_month_mean_high = []\n",
    "for x in list_bmv:\n",
    "    if 'month' in x:\n",
    "        suffix_docs = x.split('_')[len(x.split('_')) - 1]\n",
    "        if suffix_docs != 'other':\n",
    "            ts_month_mean_low.append({\"month\":suffix_docs,\"mean\":df.loc[df[x] == 1, 'low'].mean()})\n",
    "            ts_month_mean_high.append({\"month\":suffix_docs,\"mean\":df.loc[df[x] == 1, 'high'].mean()})\n"
   ]
  },
  {
   "cell_type": "code",
   "execution_count": null,
   "metadata": {},
   "outputs": [],
   "source": [
    "order_low = sorted(ts_month_mean_low, key = lambda month: month['mean'])\n",
    "order_high = sorted(ts_month_mean_high, key = lambda month: month['mean'])\n"
   ]
  },
  {
   "cell_type": "code",
   "execution_count": null,
   "metadata": {},
   "outputs": [],
   "source": [
    "# The three months with lowest price\n",
    "months_low = order_low[-3:]\n",
    "print(\"The months with  the lowest price\")\n",
    "print(\"-------------------------------------\")\n",
    "for x in months_low:\n",
    "    print(\"The month: \",x['month'],\"with\",x['mean'])"
   ]
  },
  {
   "cell_type": "code",
   "execution_count": null,
   "metadata": {},
   "outputs": [],
   "source": [
    "# The three months with high price\n",
    "\n",
    "months_high = order_high [-3:]\n",
    "print(\"The months with the highest price\")\n",
    "print(\"-------------------------------------\")\n",
    "for x in months_high:\n",
    "    print(\"The month: \",x['month'],\"with\",x['mean'])"
   ]
  },
  {
   "cell_type": "code",
   "execution_count": null,
   "metadata": {},
   "outputs": [],
   "source": [
    "array_weeks = []\n",
    "ts_month_february = {}\n",
    "ts_month_june = {}\n",
    "ts_month_december = {}\n",
    "for x in list_bmv:\n",
    "    if 'TS_DAY_OF' in x:\n",
    "        suffix_docs = x.split('_')[len(x.split('_')) - 1].strip('.')\n",
    "        if suffix_docs != 'other':\n",
    "            ts_month_february.update({suffix_docs:df.loc[(df['ts_month_february'] == 1) & (df[x] == 1), 'price'].mean()})\n",
    "            ts_month_june.update({suffix_docs:df.loc[(df['ts_month_june'] == 1) & (df[x] == 1), 'price'].mean()})\n",
    "            ts_month_december.update({suffix_docs:df.loc[(df['ts_month_december'] == 1) & (df[x] == 1), 'price'].mean()})\n",
    "array_weeks.append(ts_month_february)\n",
    "array_weeks.append(ts_month_june)\n",
    "array_weeks.append(ts_month_december)\n",
    "\n",
    "            "
   ]
  },
  {
   "cell_type": "code",
   "execution_count": null,
   "metadata": {},
   "outputs": [],
   "source": [
    "df_ =pd.DataFrame(array_weeks)\n",
    "df_.rename(index={0:'february',1:'june',2:'december'}, inplace=True)"
   ]
  },
  {
   "cell_type": "code",
   "execution_count": null,
   "metadata": {},
   "outputs": [],
   "source": [
    "df_.plot()"
   ]
  },
  {
   "cell_type": "code",
   "execution_count": null,
   "metadata": {},
   "outputs": [],
   "source": [
    "df = df.sort_values('timestamp', ascending=True)\n",
    "df_cemex = df_cemex.sort_values('timestamp', ascending=True)"
   ]
  },
  {
   "cell_type": "code",
   "execution_count": null,
   "metadata": {},
   "outputs": [],
   "source": [
    "# Plot two dataframes\n",
    "#In this case, the graph show with a big differece becasuse the prices vary a lot\n",
    "a= plt.plot(df_cemex['timestamp'],df_cemex['price'])\n",
    "b = plt.plot(df['timestamp'],df['price'])\n",
    "plt.ylabel('Price')\n",
    "plt.xlabel('Timestamp')\n",
    "\n",
    "plt.legend((a[0], b[0]), ('Price cemex', 'Price BVM'))\n"
   ]
  },
  {
   "cell_type": "code",
   "execution_count": null,
   "metadata": {},
   "outputs": [],
   "source": [
    "# Show only cemex graph\n",
    "df_cemex.plot('timestamp','price')"
   ]
  },
  {
   "cell_type": "code",
   "execution_count": null,
   "metadata": {},
   "outputs": [],
   "source": [
    "# Show only BVM graph\n",
    "\n",
    "df.plot('timestamp','price')"
   ]
  },
  {
   "cell_type": "code",
   "execution_count": null,
   "metadata": {},
   "outputs": [],
   "source": [
    "df['uplift'] = df['price'].pct_change().fillna(0)\n",
    "df_cemex['uplift'] = df_cemex['price'].pct_change().fillna(0)"
   ]
  },
  {
   "cell_type": "code",
   "execution_count": null,
   "metadata": {},
   "outputs": [],
   "source": [
    "# Plot two dataframes\n",
    "#In this case, the graph show with a big differece becasuse the prices bary a lot\n",
    "a= plt.plot(df_cemex['timestamp'],df_cemex['uplift'])\n",
    "b = plt.plot(df['timestamp'],df['uplift'])\n",
    "plt.ylabel('uplift')\n",
    "plt.xlabel('Timestamp')\n",
    "\n",
    "plt.legend((a[0], b[0]), ('uplift cemex', 'uplift BVM'))"
   ]
  },
  {
   "cell_type": "code",
   "execution_count": null,
   "metadata": {},
   "outputs": [],
   "source": [
    "df.plot('timestamp','uplift',color='r')"
   ]
  },
  {
   "cell_type": "code",
   "execution_count": null,
   "metadata": {},
   "outputs": [],
   "source": [
    "df_cemex.plot('timestamp','uplift',color='g')"
   ]
  },
  {
   "cell_type": "code",
   "execution_count": null,
   "metadata": {},
   "outputs": [],
   "source": [
    "#List comprehension\n",
    "    # Es una manera más sencilla para obtener información de un set de datos además de poder utlizarlo \n",
    "    # con condiciones, con una sintaxis más sencilla, además el procesamiento de la información es más rápido\n",
    "    # a comparación de los loops normales\n",
    "    # Exemplo\n",
    "    # Tengo la lista de los precios del dataframe de BMV y solo quiero obtner los precios mayores a 40085.52 \n",
    "    # Este tipo de lista se utilizan más cuando se la cantidad de la información es demasiado grande Y es \n",
    "    # necesario optizar las consultas o validaciones\n",
    "\n",
    "list_bmv= list(df['price'])\n",
    "# List comprehension\n",
    "list_price = [x for x in df.index if df['price'][x] > 40085.52]\n",
    "\n",
    "\n",
    "#NOT list comprehension\n",
    "list_2 = []\n",
    "for x in df.index:\n",
    "    if df['price'][x] > 40085.52:\n",
    "        list_2.append(x)\n",
    "\n",
    "\n"
   ]
  },
  {
   "cell_type": "code",
   "execution_count": null,
   "metadata": {},
   "outputs": [],
   "source": []
  },
  {
   "cell_type": "code",
   "execution_count": null,
   "metadata": {},
   "outputs": [],
   "source": []
  }
 ],
 "metadata": {
  "kernelspec": {
   "display_name": "Python 3",
   "language": "python",
   "name": "python3"
  },
  "language_info": {
   "codemirror_mode": {
    "name": "ipython",
    "version": 3
   },
   "file_extension": ".py",
   "mimetype": "text/x-python",
   "name": "python",
   "nbconvert_exporter": "python",
   "pygments_lexer": "ipython3",
   "version": "3.6.7"
  }
 },
 "nbformat": 4,
 "nbformat_minor": 2
}
